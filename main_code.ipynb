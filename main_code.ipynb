{
 "cells": [
  {
   "cell_type": "code",
   "execution_count": 151,
   "id": "ba5c28c7-d8c1-452d-a4ac-66d26eb02eee",
   "metadata": {},
   "outputs": [],
   "source": [
    "import numpy as np\n",
    "import pandas as pd\n",
    "import matplotlib.pyplot as plt\n",
    "import requests\n",
    "from io import StringIO\n",
    "import yfinance as yf\n",
    "import os"
   ]
  },
  {
   "cell_type": "code",
   "execution_count": 152,
   "id": "f99f1d15-fec7-46d6-98fe-7020d901361d",
   "metadata": {},
   "outputs": [
    {
     "name": "stdout",
     "output_type": "stream",
     "text": [
      "Present working directory: C:\\Users\\sreek\\Downloads\\TCap Ventures\n"
     ]
    }
   ],
   "source": [
    "pwd = os.getcwd()\n",
    "print(f\"Present working directory: {pwd}\")"
   ]
  },
  {
   "cell_type": "code",
   "execution_count": 153,
   "id": "7fd82cc9-cff2-4749-9149-5bd23de0d1f9",
   "metadata": {},
   "outputs": [
    {
     "name": "stdout",
     "output_type": "stream",
     "text": [
      "['MMM', 'AOS', 'ABT', 'ABBV', 'ACN', 'ADBE', 'AMD', 'AES', 'AFL', 'A', 'APD', 'ABNB', 'AKAM', 'ALB', 'ARE', 'ALGN', 'ALLE', 'LNT', 'ALL', 'GOOGL', 'GOOG', 'MO', 'AMZN', 'AMCR', 'AEE', 'AEP', 'AXP', 'AIG', 'AMT', 'AWK', 'AMP', 'AME', 'AMGN', 'APH', 'ADI', 'ANSS', 'AON', 'APA', 'APO', 'AAPL', 'AMAT', 'APTV', 'ACGL', 'ADM', 'ANET', 'AJG', 'AIZ', 'T', 'ATO', 'ADSK']\n"
     ]
    }
   ],
   "source": [
    "# Scrape the S&P 500 tickers from Wikipedia\n",
    "def get_sp500_tickers():\n",
    "    url = 'https://en.wikipedia.org/wiki/List_of_S%26P_500_companies'\n",
    "    html = requests.get(url).text  # Fetch the HTML content of the page\n",
    "    dfs = pd.read_html(StringIO(html))  # Wrap the HTML in StringIO to pass to read_html\n",
    "    tickers = dfs[0]['Symbol'].tolist()  # Extract the 'Symbol' column\n",
    "    return tickers\n",
    "\n",
    "# Get the list of S&P 500 tickers\n",
    "tickers = get_sp500_tickers()\n",
    "\n",
    "# Limit to the first 50 tickers\n",
    "tickers = tickers[:50]\n",
    "\n",
    "# Print the list of tickers\n",
    "print(tickers)\n"
   ]
  },
  {
   "cell_type": "code",
   "execution_count": 154,
   "id": "c03e0319-2da2-43e7-a5b0-4a02da427b49",
   "metadata": {},
   "outputs": [
    {
     "name": "stdout",
     "output_type": "stream",
     "text": [
      "Folder: C:\\Users\\sreek\\Downloads\\TCap Ventures\\saved_ticker_data_folder\n"
     ]
    },
    {
     "name": "stderr",
     "output_type": "stream",
     "text": [
      "[*********************100%***********************]  1 of 1 completed\n",
      "[*********************100%***********************]  1 of 1 completed\n"
     ]
    },
    {
     "name": "stdout",
     "output_type": "stream",
     "text": [
      "Data for MMM saved at C:\\Users\\sreek\\Downloads\\TCap Ventures\\saved_ticker_data_folder\\MMM_Candlestick_data.csv\n",
      "Data for AOS saved at C:\\Users\\sreek\\Downloads\\TCap Ventures\\saved_ticker_data_folder\\AOS_Candlestick_data.csv\n"
     ]
    },
    {
     "name": "stderr",
     "output_type": "stream",
     "text": [
      "[*********************100%***********************]  1 of 1 completed\n",
      "[*********************100%***********************]  1 of 1 completed\n"
     ]
    },
    {
     "name": "stdout",
     "output_type": "stream",
     "text": [
      "Data for ABT saved at C:\\Users\\sreek\\Downloads\\TCap Ventures\\saved_ticker_data_folder\\ABT_Candlestick_data.csv\n",
      "Data for ABBV saved at C:\\Users\\sreek\\Downloads\\TCap Ventures\\saved_ticker_data_folder\\ABBV_Candlestick_data.csv\n"
     ]
    },
    {
     "name": "stderr",
     "output_type": "stream",
     "text": [
      "[*********************100%***********************]  1 of 1 completed\n",
      "[*********************100%***********************]  1 of 1 completed\n"
     ]
    },
    {
     "name": "stdout",
     "output_type": "stream",
     "text": [
      "Data for ACN saved at C:\\Users\\sreek\\Downloads\\TCap Ventures\\saved_ticker_data_folder\\ACN_Candlestick_data.csv\n",
      "Data for ADBE saved at C:\\Users\\sreek\\Downloads\\TCap Ventures\\saved_ticker_data_folder\\ADBE_Candlestick_data.csv\n"
     ]
    },
    {
     "name": "stderr",
     "output_type": "stream",
     "text": [
      "[*********************100%***********************]  1 of 1 completed\n"
     ]
    },
    {
     "name": "stdout",
     "output_type": "stream",
     "text": [
      "Data for AMD saved at C:\\Users\\sreek\\Downloads\\TCap Ventures\\saved_ticker_data_folder\\AMD_Candlestick_data.csv\n"
     ]
    },
    {
     "name": "stderr",
     "output_type": "stream",
     "text": [
      "[*********************100%***********************]  1 of 1 completed\n",
      "[*********************100%***********************]  1 of 1 completed\n"
     ]
    },
    {
     "name": "stdout",
     "output_type": "stream",
     "text": [
      "Data for AES saved at C:\\Users\\sreek\\Downloads\\TCap Ventures\\saved_ticker_data_folder\\AES_Candlestick_data.csv\n",
      "Data for AFL saved at C:\\Users\\sreek\\Downloads\\TCap Ventures\\saved_ticker_data_folder\\AFL_Candlestick_data.csv\n"
     ]
    },
    {
     "name": "stderr",
     "output_type": "stream",
     "text": [
      "[*********************100%***********************]  1 of 1 completed\n",
      "[*********************100%***********************]  1 of 1 completed\n"
     ]
    },
    {
     "name": "stdout",
     "output_type": "stream",
     "text": [
      "Data for A saved at C:\\Users\\sreek\\Downloads\\TCap Ventures\\saved_ticker_data_folder\\A_Candlestick_data.csv\n",
      "Data for APD saved at C:\\Users\\sreek\\Downloads\\TCap Ventures\\saved_ticker_data_folder\\APD_Candlestick_data.csv\n"
     ]
    },
    {
     "name": "stderr",
     "output_type": "stream",
     "text": [
      "[*********************100%***********************]  1 of 1 completed\n",
      "[*********************100%***********************]  1 of 1 completed\n"
     ]
    },
    {
     "name": "stdout",
     "output_type": "stream",
     "text": [
      "Data for ABNB saved at C:\\Users\\sreek\\Downloads\\TCap Ventures\\saved_ticker_data_folder\\ABNB_Candlestick_data.csv\n",
      "Data for AKAM saved at C:\\Users\\sreek\\Downloads\\TCap Ventures\\saved_ticker_data_folder\\AKAM_Candlestick_data.csv\n"
     ]
    },
    {
     "name": "stderr",
     "output_type": "stream",
     "text": [
      "[*********************100%***********************]  1 of 1 completed\n",
      "[*********************100%***********************]  1 of 1 completed\n"
     ]
    },
    {
     "name": "stdout",
     "output_type": "stream",
     "text": [
      "Data for ALB saved at C:\\Users\\sreek\\Downloads\\TCap Ventures\\saved_ticker_data_folder\\ALB_Candlestick_data.csv\n",
      "Data for ARE saved at C:\\Users\\sreek\\Downloads\\TCap Ventures\\saved_ticker_data_folder\\ARE_Candlestick_data.csv\n"
     ]
    },
    {
     "name": "stderr",
     "output_type": "stream",
     "text": [
      "[*********************100%***********************]  1 of 1 completed\n",
      "[*********************100%***********************]  1 of 1 completed"
     ]
    },
    {
     "name": "stdout",
     "output_type": "stream",
     "text": [
      "Data for ALGN saved at C:\\Users\\sreek\\Downloads\\TCap Ventures\\saved_ticker_data_folder\\ALGN_Candlestick_data.csv\n"
     ]
    },
    {
     "name": "stderr",
     "output_type": "stream",
     "text": [
      "\n",
      "[*********************100%***********************]  1 of 1 completed\n"
     ]
    },
    {
     "name": "stdout",
     "output_type": "stream",
     "text": [
      "Data for ALLE saved at C:\\Users\\sreek\\Downloads\\TCap Ventures\\saved_ticker_data_folder\\ALLE_Candlestick_data.csv\n",
      "Data for LNT saved at C:\\Users\\sreek\\Downloads\\TCap Ventures\\saved_ticker_data_folder\\LNT_Candlestick_data.csv\n"
     ]
    },
    {
     "name": "stderr",
     "output_type": "stream",
     "text": [
      "[*********************100%***********************]  1 of 1 completed\n",
      "[*********************100%***********************]  1 of 1 completed\n"
     ]
    },
    {
     "name": "stdout",
     "output_type": "stream",
     "text": [
      "Data for ALL saved at C:\\Users\\sreek\\Downloads\\TCap Ventures\\saved_ticker_data_folder\\ALL_Candlestick_data.csv\n",
      "Data for GOOGL saved at C:\\Users\\sreek\\Downloads\\TCap Ventures\\saved_ticker_data_folder\\GOOGL_Candlestick_data.csv\n"
     ]
    },
    {
     "name": "stderr",
     "output_type": "stream",
     "text": [
      "[*********************100%***********************]  1 of 1 completed\n",
      "[*********************100%***********************]  1 of 1 completed\n"
     ]
    },
    {
     "name": "stdout",
     "output_type": "stream",
     "text": [
      "Data for GOOG saved at C:\\Users\\sreek\\Downloads\\TCap Ventures\\saved_ticker_data_folder\\GOOG_Candlestick_data.csv\n"
     ]
    },
    {
     "name": "stderr",
     "output_type": "stream",
     "text": [
      "[*********************100%***********************]  1 of 1 completed\n"
     ]
    },
    {
     "name": "stdout",
     "output_type": "stream",
     "text": [
      "Data for MO saved at C:\\Users\\sreek\\Downloads\\TCap Ventures\\saved_ticker_data_folder\\MO_Candlestick_data.csv\n",
      "Data for AMZN saved at C:\\Users\\sreek\\Downloads\\TCap Ventures\\saved_ticker_data_folder\\AMZN_Candlestick_data.csv\n"
     ]
    },
    {
     "name": "stderr",
     "output_type": "stream",
     "text": [
      "[*********************100%***********************]  1 of 1 completed\n",
      "[*********************100%***********************]  1 of 1 completed"
     ]
    },
    {
     "name": "stdout",
     "output_type": "stream",
     "text": [
      "Data for AMCR saved at C:\\Users\\sreek\\Downloads\\TCap Ventures\\saved_ticker_data_folder\\AMCR_Candlestick_data.csv\n",
      "Data for AEE saved at C:\\Users\\sreek\\Downloads\\TCap Ventures\\saved_ticker_data_folder\\AEE_Candlestick_data.csv\n"
     ]
    },
    {
     "name": "stderr",
     "output_type": "stream",
     "text": [
      "\n",
      "[*********************100%***********************]  1 of 1 completed\n",
      "[*********************100%***********************]  1 of 1 completed\n"
     ]
    },
    {
     "name": "stdout",
     "output_type": "stream",
     "text": [
      "Data for AEP saved at C:\\Users\\sreek\\Downloads\\TCap Ventures\\saved_ticker_data_folder\\AEP_Candlestick_data.csv\n",
      "Data for AXP saved at C:\\Users\\sreek\\Downloads\\TCap Ventures\\saved_ticker_data_folder\\AXP_Candlestick_data.csv\n"
     ]
    },
    {
     "name": "stderr",
     "output_type": "stream",
     "text": [
      "[*********************100%***********************]  1 of 1 completed\n",
      "[*********************100%***********************]  1 of 1 completed\n"
     ]
    },
    {
     "name": "stdout",
     "output_type": "stream",
     "text": [
      "Data for AIG saved at C:\\Users\\sreek\\Downloads\\TCap Ventures\\saved_ticker_data_folder\\AIG_Candlestick_data.csv\n",
      "Data for AMT saved at C:\\Users\\sreek\\Downloads\\TCap Ventures\\saved_ticker_data_folder\\AMT_Candlestick_data.csv\n"
     ]
    },
    {
     "name": "stderr",
     "output_type": "stream",
     "text": [
      "[*********************100%***********************]  1 of 1 completed\n",
      "[*********************100%***********************]  1 of 1 completed\n"
     ]
    },
    {
     "name": "stdout",
     "output_type": "stream",
     "text": [
      "Data for AWK saved at C:\\Users\\sreek\\Downloads\\TCap Ventures\\saved_ticker_data_folder\\AWK_Candlestick_data.csv\n",
      "Data for AMP saved at C:\\Users\\sreek\\Downloads\\TCap Ventures\\saved_ticker_data_folder\\AMP_Candlestick_data.csv\n"
     ]
    },
    {
     "name": "stderr",
     "output_type": "stream",
     "text": [
      "[*********************100%***********************]  1 of 1 completed\n",
      "[*********************100%***********************]  1 of 1 completed\n"
     ]
    },
    {
     "name": "stdout",
     "output_type": "stream",
     "text": [
      "Data for AME saved at C:\\Users\\sreek\\Downloads\\TCap Ventures\\saved_ticker_data_folder\\AME_Candlestick_data.csv\n",
      "Data for AMGN saved at C:\\Users\\sreek\\Downloads\\TCap Ventures\\saved_ticker_data_folder\\AMGN_Candlestick_data.csv\n"
     ]
    },
    {
     "name": "stderr",
     "output_type": "stream",
     "text": [
      "[*********************100%***********************]  1 of 1 completed\n",
      "[*********************100%***********************]  1 of 1 completed\n"
     ]
    },
    {
     "name": "stdout",
     "output_type": "stream",
     "text": [
      "Data for APH saved at C:\\Users\\sreek\\Downloads\\TCap Ventures\\saved_ticker_data_folder\\APH_Candlestick_data.csv\n",
      "Data for ADI saved at C:\\Users\\sreek\\Downloads\\TCap Ventures\\saved_ticker_data_folder\\ADI_Candlestick_data.csv\n"
     ]
    },
    {
     "name": "stderr",
     "output_type": "stream",
     "text": [
      "[*********************100%***********************]  1 of 1 completed\n",
      "[*********************100%***********************]  1 of 1 completed\n"
     ]
    },
    {
     "name": "stdout",
     "output_type": "stream",
     "text": [
      "Data for ANSS saved at C:\\Users\\sreek\\Downloads\\TCap Ventures\\saved_ticker_data_folder\\ANSS_Candlestick_data.csv\n",
      "Data for AON saved at C:\\Users\\sreek\\Downloads\\TCap Ventures\\saved_ticker_data_folder\\AON_Candlestick_data.csv\n"
     ]
    },
    {
     "name": "stderr",
     "output_type": "stream",
     "text": [
      "[*********************100%***********************]  1 of 1 completed\n",
      "[*********************100%***********************]  1 of 1 completed\n"
     ]
    },
    {
     "name": "stdout",
     "output_type": "stream",
     "text": [
      "Data for APA saved at C:\\Users\\sreek\\Downloads\\TCap Ventures\\saved_ticker_data_folder\\APA_Candlestick_data.csv\n",
      "Data for APO saved at C:\\Users\\sreek\\Downloads\\TCap Ventures\\saved_ticker_data_folder\\APO_Candlestick_data.csv\n"
     ]
    },
    {
     "name": "stderr",
     "output_type": "stream",
     "text": [
      "[*********************100%***********************]  1 of 1 completed\n",
      "[*********************100%***********************]  1 of 1 completed\n"
     ]
    },
    {
     "name": "stdout",
     "output_type": "stream",
     "text": [
      "Data for AAPL saved at C:\\Users\\sreek\\Downloads\\TCap Ventures\\saved_ticker_data_folder\\AAPL_Candlestick_data.csv\n",
      "Data for AMAT saved at C:\\Users\\sreek\\Downloads\\TCap Ventures\\saved_ticker_data_folder\\AMAT_Candlestick_data.csv\n"
     ]
    },
    {
     "name": "stderr",
     "output_type": "stream",
     "text": [
      "[*********************100%***********************]  1 of 1 completed\n",
      "[*********************100%***********************]  1 of 1 completed\n"
     ]
    },
    {
     "name": "stdout",
     "output_type": "stream",
     "text": [
      "Data for APTV saved at C:\\Users\\sreek\\Downloads\\TCap Ventures\\saved_ticker_data_folder\\APTV_Candlestick_data.csv\n",
      "Data for ACGL saved at C:\\Users\\sreek\\Downloads\\TCap Ventures\\saved_ticker_data_folder\\ACGL_Candlestick_data.csv\n"
     ]
    },
    {
     "name": "stderr",
     "output_type": "stream",
     "text": [
      "[*********************100%***********************]  1 of 1 completed\n",
      "[*********************100%***********************]  1 of 1 completed\n"
     ]
    },
    {
     "name": "stdout",
     "output_type": "stream",
     "text": [
      "Data for ADM saved at C:\\Users\\sreek\\Downloads\\TCap Ventures\\saved_ticker_data_folder\\ADM_Candlestick_data.csv\n",
      "Data for ANET saved at C:\\Users\\sreek\\Downloads\\TCap Ventures\\saved_ticker_data_folder\\ANET_Candlestick_data.csv\n"
     ]
    },
    {
     "name": "stderr",
     "output_type": "stream",
     "text": [
      "[*********************100%***********************]  1 of 1 completed\n",
      "[*********************100%***********************]  1 of 1 completed\n"
     ]
    },
    {
     "name": "stdout",
     "output_type": "stream",
     "text": [
      "Data for AJG saved at C:\\Users\\sreek\\Downloads\\TCap Ventures\\saved_ticker_data_folder\\AJG_Candlestick_data.csv\n",
      "Data for AIZ saved at C:\\Users\\sreek\\Downloads\\TCap Ventures\\saved_ticker_data_folder\\AIZ_Candlestick_data.csv\n"
     ]
    },
    {
     "name": "stderr",
     "output_type": "stream",
     "text": [
      "[*********************100%***********************]  1 of 1 completed\n",
      "[*********************100%***********************]  1 of 1 completed"
     ]
    },
    {
     "name": "stdout",
     "output_type": "stream",
     "text": [
      "Data for T saved at C:\\Users\\sreek\\Downloads\\TCap Ventures\\saved_ticker_data_folder\\T_Candlestick_data.csv\n",
      "Data for ATO saved at C:\\Users\\sreek\\Downloads\\TCap Ventures\\saved_ticker_data_folder\\ATO_Candlestick_data.csv\n"
     ]
    },
    {
     "name": "stderr",
     "output_type": "stream",
     "text": [
      "\n",
      "[*********************100%***********************]  1 of 1 completed"
     ]
    },
    {
     "name": "stdout",
     "output_type": "stream",
     "text": [
      "Data for ADSK saved at C:\\Users\\sreek\\Downloads\\TCap Ventures\\saved_ticker_data_folder\\ADSK_Candlestick_data.csv\n"
     ]
    },
    {
     "name": "stderr",
     "output_type": "stream",
     "text": [
      "\n"
     ]
    }
   ],
   "source": [
    "import yfinance as yf\n",
    "import os\n",
    "\n",
    "# Get current directory and define folder path\n",
    "folder_path = os.path.join(os.getcwd(), \"saved_ticker_data_folder\")\n",
    "\n",
    "# Create directory if it doesn't exist (using makedirs with exist_ok=True)\n",
    "os.makedirs(folder_path, exist_ok=True)\n",
    "print(\"Folder:\", folder_path)\n",
    "\n",
    "saved_file_arr = []\n",
    "\n",
    "# Download and save data for each ticker\n",
    "for i in tickers:\n",
    "    data = yf.download(i, period='1y', interval='1d')\n",
    "    data.columns = [col[0] for col in data.columns]\n",
    "    save_path = os.path.join(folder_path, f\"{i}_Candlestick_data.csv\")\n",
    "    data.to_csv(save_path)\n",
    "    saved_file_arr.append(save_path)\n",
    "    print(f\"Data for {i} saved at {save_path}\")\n"
   ]
  },
  {
   "cell_type": "code",
   "execution_count": 165,
   "id": "d9c34e64-f116-42da-9778-3766f05cbbbb",
   "metadata": {},
   "outputs": [
    {
     "name": "stdout",
     "output_type": "stream",
     "text": [
      "Results .csv file is saved in C:\\Users\\sreek\\Downloads\\TCap Ventures\\backtest_results.csv\n"
     ]
    }
   ],
   "source": [
    "class BollingerBandBacktester:\n",
    "    def __init__(self, data, investment_per_trade=100):\n",
    "        self.data = data\n",
    "        self.investment_per_trade = investment_per_trade\n",
    "        self.trades = []\n",
    "        self.positions = []\n",
    "\n",
    "    def calculate_bollinger_bands(self, window=20, num_std_dev=2):\n",
    "        self.data['MA'] = self.data['Close'].rolling(window=window).mean()\n",
    "        self.data['STD'] = self.data['Close'].rolling(window=window).std()\n",
    "        self.data['UpperBand'] = self.data['MA'] + (num_std_dev * self.data['STD'])\n",
    "        self.data['LowerBand'] = self.data['MA'] - (num_std_dev * self.data['STD'])\n",
    "\n",
    "    def simulate_trades(self):\n",
    "        entry_date = None\n",
    "        buy_price = None\n",
    "        tokens_bought = None\n",
    "\n",
    "        for index, row in self.data.iterrows():\n",
    "            price = row['Close']\n",
    "            lower_band = row['LowerBand']\n",
    "            upper_band = row['UpperBand']\n",
    "\n",
    "            # Check for buy condition (price falls 3% below lower band)\n",
    "            if price < 0.97 * lower_band and not self.positions:\n",
    "                tokens_bought = self.investment_per_trade / price\n",
    "                self.positions.append(tokens_bought)\n",
    "                entry_date = index\n",
    "                buy_price = price\n",
    "\n",
    "            # Check for sell condition (price touches upper band)\n",
    "            elif price >= upper_band and self.positions:\n",
    "                tokens_sold = sum(self.positions)\n",
    "                sell_price = price\n",
    "                profit = (sell_price - buy_price) * tokens_sold\n",
    "                profit_percentage = (profit / (buy_price * tokens_sold)) * 100\n",
    "\n",
    "                self.trades.append({\n",
    "                    'token': None,\n",
    "                    'date_in': entry_date,\n",
    "                    'buy_price': round(buy_price, 2),\n",
    "                    'date_out': index,\n",
    "                    'sell_price': round(sell_price, 2),\n",
    "                    'profit_percentage': round(profit_percentage, 2)\n",
    "                })\n",
    "\n",
    "                self.positions.clear()\n",
    "\n",
    "        # Sell remaining positions at the end of the period\n",
    "        if self.positions:\n",
    "            final_price = self.data['Close'].iloc[-1]\n",
    "            tokens_sold = sum(self.positions)\n",
    "            sell_price = final_price\n",
    "            profit = (sell_price - buy_price) * tokens_sold\n",
    "            profit_percentage = (profit / (buy_price * tokens_sold)) * 100\n",
    "\n",
    "            self.trades.append({\n",
    "                'token': None,\n",
    "                'date_in': entry_date,\n",
    "                'buy_price': round(buy_price, 2),\n",
    "                'date_out': self.data.index[-1],\n",
    "                'sell_price': round(sell_price, 2),\n",
    "                'profit_percentage': round(profit_percentage, 2)\n",
    "            })\n",
    "\n",
    "            self.positions.clear()\n",
    "\n",
    "    def run_backtest(self, token):\n",
    "        self.calculate_bollinger_bands()\n",
    "        self.simulate_trades()\n",
    "        for trade in self.trades:\n",
    "            trade['token'] = token\n",
    "        return self.trades\n",
    "\n",
    "\n",
    "def backtest_all_stocks(file_paths, investment_per_trade=100):\n",
    "    all_trades = []\n",
    "\n",
    "    for file_path in file_paths:\n",
    "        ticker = file_path.split('\\\\')[-1].split('_')[0]\n",
    "        data = pd.read_csv(file_path, index_col='Date', parse_dates=True)\n",
    "        backtester = BollingerBandBacktester(data, investment_per_trade)\n",
    "        trades = backtester.run_backtest(ticker)\n",
    "        all_trades.extend(trades)\n",
    "\n",
    "    trades_df = pd.DataFrame(all_trades)\n",
    "    return trades_df\n",
    "\n",
    "\n",
    "\n",
    "trades_df = backtest_all_stocks(saved_file_arr)\n",
    "trades_df = trades_df[['token', 'date_in', 'buy_price', 'date_out', 'sell_price', 'profit_percentage']]\n",
    "trades_df.to_csv(\"backtest_results.csv\", index=False)\n",
    "print(f\"Results .csv file is saved in {pwd}\\\\backtest_results.csv\")"
   ]
  }
 ],
 "metadata": {
  "kernelspec": {
   "display_name": "Python 3 (ipykernel)",
   "language": "python",
   "name": "python3"
  },
  "language_info": {
   "codemirror_mode": {
    "name": "ipython",
    "version": 3
   },
   "file_extension": ".py",
   "mimetype": "text/x-python",
   "name": "python",
   "nbconvert_exporter": "python",
   "pygments_lexer": "ipython3",
   "version": "3.12.7"
  }
 },
 "nbformat": 4,
 "nbformat_minor": 5
}
